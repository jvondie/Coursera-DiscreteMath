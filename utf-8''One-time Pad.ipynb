{
 "cells": [
  {
   "cell_type": "raw",
   "metadata": {},
   "source": [
    "This notebook shows examples of One-time Pad encryption and partial decryption of the messages when the same key is used more than once for encryption."
   ]
  },
  {
   "cell_type": "raw",
   "metadata": {},
   "source": [
    "Before using XOR operation, we are going to convert plaintext messages to hex strings. This way, each character is represented by its ASCII code - a number from 0 to 255. In the hexadecimal system, any such number has two digits. We write these two hexadecimal digits instead of the initial character, like \"6f\" instead of letter \"o\", where 'f' corresponds to hexadecimal number 15. We can also convert back from hex strings to the regular strings. These conversions are needed for demonstration purposes only: to avoid using unreadable/invisible characters in the strings we work with."
   ]
  },
  {
   "cell_type": "code",
   "execution_count": 3,
   "metadata": {},
   "outputs": [
    {
     "name": "stdout",
     "output_type": "stream",
     "text": [
      "toHex(\"Hello World\") = \"48656c6c6f20576f726c64\"\n",
      "toStr(\"736f6d65206d657373616765\") = \"some message\"\n"
     ]
    }
   ],
   "source": [
    "# Converts string to hex\n",
    "def toHex(s):\n",
    "    lst = []\n",
    "    for ch in s:\n",
    "        hv = hex(ord(ch)).replace('0x', '')\n",
    "        if len(hv) == 1:\n",
    "            hv = '0'+hv\n",
    "        lst.append(hv)\n",
    "    \n",
    "    return reduce(lambda x,y:x+y, lst)\n",
    "\n",
    "print(\"toHex(\\\"Hello World\\\") = \\\"%s\\\"\" % toHex(\"Hello World\"))\n",
    "\n",
    "# Converts hex to string\n",
    "def toStr(s):\n",
    "    return s and chr(int(s[:2], base=16)) + toStr(s[2:]) or ''\n",
    "\n",
    "print(\"toStr(\\\"736f6d65206d657373616765\\\") = \\\"%s\\\"\" % toStr(\"736f6d65206d657373616765\"))"
   ]
  },
  {
   "cell_type": "code",
   "execution_count": 4,
   "metadata": {},
   "outputs": [
    {
     "data": {
      "text/plain": [
       "'426f697365'"
      ]
     },
     "execution_count": 4,
     "metadata": {},
     "output_type": "execute_result"
    }
   ],
   "source": [
    "toHex(\"Boise\")"
   ]
  },
  {
   "cell_type": "code",
   "execution_count": 5,
   "metadata": {},
   "outputs": [
    {
     "data": {
      "text/plain": [
       "'Boise'"
      ]
     },
     "execution_count": 5,
     "metadata": {},
     "output_type": "execute_result"
    }
   ],
   "source": [
    "toStr(\"426f697365\")"
   ]
  },
  {
   "cell_type": "code",
   "execution_count": 6,
   "metadata": {},
   "outputs": [],
   "source": [
    "# Computes XOR of two messages s1 and s2.\n",
    "# s1 and s2 must have the same length.\n",
    "def Xor(s1, s2):\n",
    "    res = \"\"\n",
    "    for i in range(len(s1)):\n",
    "        res += format(int(s1[i], 16) ^ int(s2[i], 16), '01x')\n",
    "    return res"
   ]
  },
  {
   "cell_type": "raw",
   "metadata": {},
   "source": [
    "To encrypt, we need to Xor the message with the key and get the ciphertext. However, before doing that we are going to convert them both to hex strings. To decrypt, we need to xor the ciphertext with the key. However, before doing that we need to convert key to hex, and after doing that we need to convert the resulting hex string to the regular string, so that we get the initial message and not its hex form."
   ]
  },
  {
   "cell_type": "code",
   "execution_count": 7,
   "metadata": {},
   "outputs": [
    {
     "name": "stdout",
     "output_type": "stream",
     "text": [
      "hex(message) = 736563726574206d657373616765\n",
      "hex(key) = 6d7920736563726574206b657973\n",
      "ciphertext: 1e1c430100175208115318041e16\n",
      "recovered message: secret message\n"
     ]
    }
   ],
   "source": [
    "message = \"secret message\"\n",
    "key     = \"my secret keys\"\n",
    "print(\"hex(message) = %s\" % toHex(message))\n",
    "print(\"hex(key) = %s\" % toHex(key))\n",
    "ciphertext = Xor(toHex(message), toHex(key))\n",
    "print(\"ciphertext: %s\" % ciphertext)\n",
    "recovered_message = toStr(Xor(ciphertext, toHex(key)))\n",
    "print(\"recovered message: %s\" % recovered_message)"
   ]
  },
  {
   "cell_type": "code",
   "execution_count": 9,
   "metadata": {},
   "outputs": [
    {
     "data": {
      "text/plain": [
       "14"
      ]
     },
     "execution_count": 9,
     "metadata": {},
     "output_type": "execute_result"
    }
   ],
   "source": [
    "len(key)"
   ]
  },
  {
   "cell_type": "raw",
   "metadata": {},
   "source": [
    "Now let's see what happens if the same key is used to encrypt two different messages:"
   ]
  },
  {
   "cell_type": "code",
   "execution_count": 10,
   "metadata": {},
   "outputs": [
    {
     "name": "stdout",
     "output_type": "stream",
     "text": [
      "071c00410e4f0d4811481645041b1718\n",
      "071c00410e4f0d4811481645041b1718\n",
      "Xor of the ciphertexts is the same as xor of messages\n"
     ]
    }
   ],
   "source": [
    "message1 = \"steal the secret\"\n",
    "message2 = \"the boy the girl\"\n",
    "key      = \"supersecretverys\"\n",
    "ciphertext1 = Xor(toHex(message1), toHex(key))\n",
    "ciphertext2 = Xor(toHex(message2), toHex(key))\n",
    "xor_ciphertexts = Xor(ciphertext1, ciphertext2)\n",
    "xor_messages = Xor(toHex(message1), toHex(message2))\n",
    "print(xor_ciphertexts)\n",
    "print(xor_messages)\n",
    "if xor_ciphertexts == xor_messages:\n",
    "    print(\"Xor of the ciphertexts is the same as xor of messages\")\n",
    "else:\n",
    "    print(\"Xor of the ciphertexts differs from the xor of messages\")"
   ]
  },
  {
   "cell_type": "code",
   "execution_count": 13,
   "metadata": {},
   "outputs": [
    {
     "data": {
      "text/plain": [
       "16"
      ]
     },
     "execution_count": 13,
     "metadata": {},
     "output_type": "execute_result"
    }
   ],
   "source": [
    "len(key)"
   ]
  },
  {
   "cell_type": "raw",
   "metadata": {},
   "source": [
    "Now you see that if Eve doesn't know the key and doesn't know the messages but intercepts just the ciphertexts,\n",
    "she can compute Xor of the ciphertexts and get the same result as if she computed Xor of the initial messages!\n",
    "\n",
    "How does this help?\n",
    "\n",
    "We can do some statistical analysis using our knowledge of English. The simplest example is the following.\n",
    "We know that English sentences often contain word \" the \" delimited by spaces on both sides. Let's try\n",
    "to \"guess\" that one of the messages contains this word \" the \" starting from position 1, 2, 3,... and so on.\n",
    "If our guess is correct, and message1 indeed contains word \" the \" starting from some position, then by\n",
    "xoring this \" the \" with the corresponding positions of the xor_ciphertexts we will get some English letters\n",
    "in the corresponding positions of message2. If our guess is incorrect, we will get just some rubbish."
   ]
  },
  {
   "cell_type": "code",
   "execution_count": 91,
   "metadata": {},
   "outputs": [
    {
     "name": "stdout",
     "output_type": "stream",
     "text": [
      "\n",
      "Good guesses:\n",
      "position: 5, one message part: \" the \", another message part: \"oy th\"\n",
      "position: 7, one message part: \" the \", another message part: \"he se\"\n"
     ]
    }
   ],
   "source": [
    "def TryGuessingSubstring(substring, message_length, xor_messages):\n",
    "    good_guesses = []\n",
    "    for pos in range(message_length - len(substring) + 1):\n",
    "        guess = toHex(chr(0) * pos + substring + chr(0) * (message_length - len(substring) - pos))\n",
    "        other_message_part = toStr(Xor(guess, xor_messages))[pos:pos + len(substring)]\n",
    "        good_guess = True\n",
    "        for i in range(len(other_message_part)):\n",
    "            if not other_message_part[i].isalpha() and not other_message_part[i].isspace():\n",
    "                good_guess = False\n",
    "                break\n",
    "        if good_guess:\n",
    "            good_guesses.append((guess, pos, other_message_part))\n",
    "        \n",
    "    print(\"\\nGood guesses:\")\n",
    "    for guess in good_guesses:\n",
    "        print(\"position: %d, one message part: \\\"%s\\\", another message part: \\\"%s\\\"\" % (guess[1], substring, guess[2]))\n",
    "        \n",
    "TryGuessingSubstring(\" the \", len(message1), xor_messages)"
   ]
  },
  {
   "cell_type": "raw",
   "metadata": {},
   "source": [
    "Now we can see that one of the messages has \"oy th\" starting from position 5, or \" th\" starting from position 7, and one of the messages has \" the \" startin from position 7. We could guess that this is the same message which has \"oy the \" starting from position 5."
   ]
  },
  {
   "cell_type": "code",
   "execution_count": 92,
   "metadata": {},
   "outputs": [
    {
     "name": "stdout",
     "output_type": "stream",
     "text": [
      "\n",
      "Good guesses:\n",
      "position: 5, one message part: \"oy the \", another message part: \" the se\"\n"
     ]
    }
   ],
   "source": [
    "TryGuessingSubstring(\"oy the \", len(message1), xor_messages)"
   ]
  },
  {
   "cell_type": "raw",
   "metadata": {},
   "source": [
    "Now we've guessed parts of both initial messages. If we had even more ciphertexts of different messages encypted with the same key, by xoring each pair the same way we could reconstruct more."
   ]
  }
 ],
 "metadata": {
  "kernelspec": {
   "display_name": "Python 2",
   "language": "python",
   "name": "python2"
  },
  "language_info": {
   "codemirror_mode": {
    "name": "ipython",
    "version": 2
   },
   "file_extension": ".py",
   "mimetype": "text/x-python",
   "name": "python",
   "nbconvert_exporter": "python",
   "pygments_lexer": "ipython2",
   "version": "2.7.15"
  }
 },
 "nbformat": 4,
 "nbformat_minor": 2
}
